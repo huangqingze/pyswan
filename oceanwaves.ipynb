{
 "cells": [
  {
   "cell_type": "code",
   "execution_count": 1,
   "metadata": {
    "collapsed": false
   },
   "outputs": [],
   "source": [
    "import oceanwaves as ow\n",
    "import numpy as np"
   ]
  },
  {
   "cell_type": "code",
   "execution_count": 2,
   "metadata": {
    "collapsed": true
   },
   "outputs": [],
   "source": [
    "Sp0 = ow.Spec1()\n",
    "Sp0.Tp    = 12;\n",
    "Sp0.Hm0   = 1;"
   ]
  },
  {
   "cell_type": "code",
   "execution_count": 3,
   "metadata": {
    "collapsed": false
   },
   "outputs": [],
   "source": [
    "Sp1       = ow.Spec1()\n",
    "Sp1.f     = np.arange(1,100)*0.03"
   ]
  },
  {
   "cell_type": "markdown",
   "metadata": {},
   "source": [
    "$$ H_{m0} = p_m*\\gamma^np.exp(-0.5*(T_p*f-1)^2./\\sigma(f,1/T_p,s_a,s_b)^2);$$"
   ]
  },
  {
   "cell_type": "code",
   "execution_count": 4,
   "metadata": {
    "collapsed": false
   },
   "outputs": [
    {
     "data": {
      "text/plain": [
       "1.0"
      ]
     },
     "execution_count": 4,
     "metadata": {},
     "output_type": "execute_result"
    }
   ],
   "source": [
    "Sp1.from_jonswap(Sp0.Hm0, Sp0.Tp)\n",
    "Sp1.Hm0()"
   ]
  },
  {
   "cell_type": "code",
   "execution_count": 5,
   "metadata": {
    "collapsed": false
   },
   "outputs": [
    {
     "data": {
      "text/plain": [
       "<matplotlib.text.Text at 0x6fcc6d8>"
      ]
     },
     "execution_count": 5,
     "metadata": {},
     "output_type": "execute_result"
    },
    {
     "data": {
      "image/png": "[encoded data removed]",
      "text/plain": [
       "<matplotlib.figure.Figure at 0x520d898>"
      ]
     },
     "metadata": {},
     "output_type": "display_data"
    }
   ],
   "source": [
    "# Plot spectra example: E(f) for all t\n",
    "# Note the package function Spec1.plot().\n",
    "%matplotlib inline\n",
    "import matplotlib as mpl\n",
    "import matplotlib.pyplot as plt\n",
    "fig=plt.figure()\n",
    "fig.set_figwidth(16)\n",
    "fig.set_figheight(10)\n",
    "ax = plt.axes([0.1,.2,0.8,0.4])\n",
    "\n",
    "plt.plot(Sp1.f,Sp1.energy)\n",
    "ax.set_title('all t')    "
   ]
  },
  {
   "cell_type": "code",
   "execution_count": 6,
   "metadata": {
    "collapsed": false
   },
   "outputs": [
    {
     "name": "stdout",
     "output_type": "stream",
     "text": [
      "Help on module oceanwaves:\n",
      "\n",
      "NAME\n",
      "    oceanwaves - Module for handling spectral ocean wave data.\n",
      "\n",
      "CLASSES\n",
      "    builtins.object\n",
      "        Spec0\n",
      "        Spec1\n",
      "        Spec2\n",
      "    \n",
      "    class Spec0(builtins.object)\n",
      "     |  Class for spectral parameters\n",
      "     |  \n",
      "     |  Methods defined here:\n",
      "     |  \n",
      "     |  __init__(self)\n",
      "     |  \n",
      "     |  __repr__(self)\n",
      "     |  \n",
      "     |  from_Spec(self, Spec)\n",
      "     |  \n",
      "     |  ----------------------------------------------------------------------\n",
      "     |  Data descriptors defined here:\n",
      "     |  \n",
      "     |  __dict__\n",
      "     |      dictionary for instance variables (if defined)\n",
      "     |  \n",
      "     |  __weakref__\n",
      "     |      list of weak references to the object (if defined)\n",
      "    \n",
      "    class Spec1(builtins.object)\n",
      "     |  Class for 1D spectra. Array shape is temporal series for a list of points.\n",
      "     |  \n",
      "     |  Methods defined here:\n",
      "     |  \n",
      "     |  Hm0(self)\n",
      "     |      Integrate Hm0 (Hs) from wave spectra (using trapz rule along last dimension.)\n",
      "     |      S = swan.Spec1()\n",
      "     |      S.Hm0()\n",
      "     |  \n",
      "     |  __init__(self)\n",
      "     |  \n",
      "     |  __repr__(self)\n",
      "     |  \n",
      "     |  from_jonswap(self, Hm0, Tp, g=9.81, gamma=3.3, method='Yamaguchi', normalize=True, sa=0.07, sb=0.09)\n",
      "     |      Generate JONSWAP spectrum\n",
      "     |      S = swan.Spec1(Hm0,Tp)\n",
      "     |  \n",
      "     |  plot(self, fname, it=0, ix=0)\n",
      "     |  \n",
      "     |  ----------------------------------------------------------------------\n",
      "     |  Data descriptors defined here:\n",
      "     |  \n",
      "     |  __dict__\n",
      "     |      dictionary for instance variables (if defined)\n",
      "     |  \n",
      "     |  __weakref__\n",
      "     |      list of weak references to the object (if defined)\n",
      "    \n",
      "    class Spec2(builtins.object)\n",
      "     |  Class for 2D spectra. Array shape is temporal series for a list of points.\n",
      "     |  \n",
      "     |  Methods defined here:\n",
      "     |  \n",
      "     |  Hm0(self)\n",
      "     |      Integrate Hm0 (Hs) from wave spectra (using trapz rule along last dimension.)\n",
      "     |      S = swan.Spec2()\n",
      "     |      S.Hm0()\n",
      "     |  \n",
      "     |  __init__(self)\n",
      "     |  \n",
      "     |  __repr__(self)\n",
      "     |  \n",
      "     |  plot(self, fname, it=0, ix=0)\n",
      "     |  \n",
      "     |  ----------------------------------------------------------------------\n",
      "     |  Data descriptors defined here:\n",
      "     |  \n",
      "     |  __dict__\n",
      "     |      dictionary for instance variables (if defined)\n",
      "     |  \n",
      "     |  __weakref__\n",
      "     |      list of weak references to the object (if defined)\n",
      "\n",
      "DATA\n",
      "    debug = False\n",
      "\n",
      "VERSION\n",
      "\n",
      "\n",
      "FILE\n",
      "    c:\\checkouts\\github\\pyswan\\oceanwaves.py\n",
      "\n",
      "\n"
     ]
    }
   ],
   "source": [
    "help(ow)"
   ]
  },
  {
   "cell_type": "code",
   "execution_count": null,
   "metadata": {
    "collapsed": true
   },
   "outputs": [],
   "source": []
  }
 ],
 "metadata": {
  "kernelspec": {
   "display_name": "Python 3",
   "language": "python",
   "name": "python3"
  },
  "language_info": {
   "codemirror_mode": {
    "name": "ipython",
    "version": 3
   },
   "file_extension": ".py",
   "mimetype": "text/x-python",
   "name": "python",
   "nbconvert_exporter": "python",
   "pygments_lexer": "ipython3",
   "version": "3.4.3"
  }
 },
 "nbformat": 4,
 "nbformat_minor": 0
}
